{
 "cells": [
  {
   "cell_type": "code",
   "execution_count": 1,
   "metadata": {},
   "outputs": [],
   "source": [
    "import numpy as np\n",
    "import matplotlib.pyplot as plt"
   ]
  },
  {
   "cell_type": "markdown",
   "metadata": {},
   "source": [
    "## Домашнее задание"
   ]
  },
  {
   "cell_type": "markdown",
   "metadata": {},
   "source": [
    "#### 1. Подберите скорость обучения (eta) и количество итераций"
   ]
  },
  {
   "cell_type": "code",
   "execution_count": 2,
   "metadata": {},
   "outputs": [],
   "source": [
    "X = np.array([[ 1,  1],\n",
    "              [ 1,  1],\n",
    "              [ 1,  2],\n",
    "              [ 1,  5],\n",
    "              [ 1,  3],\n",
    "              [ 1,  0],\n",
    "              [ 1,  5],\n",
    "              [ 1, 10],\n",
    "              [ 1,  1],\n",
    "              [ 1,  2]])"
   ]
  },
  {
   "cell_type": "code",
   "execution_count": 3,
   "metadata": {},
   "outputs": [],
   "source": [
    "y = [45, 55, 50, 55, 60, 35, 75, 80, 50, 60]"
   ]
  },
  {
   "cell_type": "code",
   "execution_count": 4,
   "metadata": {},
   "outputs": [],
   "source": [
    "def calc_mae(y, y_pred):\n",
    "    err = np.mean(np.abs(y - y_pred))\n",
    "    return err\n",
    "\n",
    "def calc_mse(y, y_pred):\n",
    "    err = np.mean((y - y_pred)**2)\n",
    "    return err"
   ]
  },
  {
   "cell_type": "code",
   "execution_count": 54,
   "metadata": {},
   "outputs": [
    {
     "name": "stdout",
     "output_type": "stream",
     "text": [
      "Number of objects = 10        \n",
      "Learning rate = 0.062        \n",
      "Initial weights = [1.  0.5] \n",
      "\n",
      "Iteration #0: W_new = [ 7.696 23.874], MSE = 3047.75\n",
      "Iteration #10: W_new = [23.50332514 18.32384756], MSE = 2328.39\n",
      "Iteration #20: W_new = [30.74427448  7.51770143], MSE = 185.94\n",
      "Iteration #30: W_new = [35.66248879  5.52876501], MSE = 89.39\n",
      "Iteration #40: W_new = [38.72126052  4.9623946 ], MSE = 64.46\n",
      "Iteration #50: W_new = [40.62685866  4.61683517], MSE = 53.92\n",
      "Iteration #60: W_new = [41.85563423  4.39401566], MSE = 49.14\n",
      "Iteration #70: W_new = [42.67357493  4.24569473], MSE = 46.82\n",
      "Iteration #80: W_new = [43.23395178  4.14407903], MSE = 45.63\n",
      "Iteration #90: W_new = [43.62802269  4.07262034], MSE = 44.99\n",
      "Iteration #100: W_new = [43.91177816  4.02116566], MSE = 44.62\n",
      "Iteration #110: W_new = [44.12053047  3.98331165], MSE = 44.4\n",
      "Iteration #120: W_new = [44.27712205  3.95491618], MSE = 44.27\n",
      "Iteration #130: W_new = [44.39667794  3.93323656], MSE = 44.18\n",
      "Iteration #140: W_new = [44.48943107  3.91641722], MSE = 44.13\n",
      "Iteration #150: W_new = [44.56244364  3.90317751], MSE = 44.09\n",
      "Iteration #160: W_new = [44.62068016  3.89261722], MSE = 44.06\n",
      "Iteration #170: W_new = [44.66769049  3.88409262], MSE = 44.04\n",
      "Iteration #180: W_new = [44.70605348  3.87713608], MSE = 44.03\n",
      "Iteration #190: W_new = [44.73767032  3.87140285], MSE = 44.02\n",
      "Iteration #200: W_new = [44.76396194  3.86663527], MSE = 44.01\n",
      "Iteration #210: W_new = [44.78600398  3.86263829], MSE = 44.01\n",
      "Iteration #220: W_new = [44.80462046  3.85926248], MSE = 44.0\n",
      "Iteration #230: W_new = [44.82044969  3.85639209], MSE = 44.0\n"
     ]
    }
   ],
   "source": [
    "n = X.shape[0]\n",
    "\n",
    "eta = 0.062\n",
    "n_iter = 240\n",
    "\n",
    "W = np.array([1, 0.5])\n",
    "print(f'Number of objects = {n} \\\n",
    "       \\nLearning rate = {eta} \\\n",
    "       \\nInitial weights = {W} \\n')\n",
    "\n",
    "for i in range(n_iter):\n",
    "    y_pred = np.dot(X, W)\n",
    "    err = calc_mse(y, y_pred)\n",
    "    for k in range(W.shape[0]):\n",
    "        W[k] -= eta * (1/n * 2 * X[:, k] @ (y_pred - y))\n",
    "    if i % 10 == 0:\n",
    "        eta /= 1.1\n",
    "        print(f'Iteration #{i}: W_new = {W}, MSE = {round(err, 2)}')\n",
    "    "
   ]
  },
  {
   "cell_type": "code",
   "execution_count": null,
   "metadata": {},
   "outputs": [],
   "source": []
  }
 ],
 "metadata": {
  "kernelspec": {
   "display_name": "Python 3",
   "language": "python",
   "name": "python3"
  },
  "language_info": {
   "codemirror_mode": {
    "name": "ipython",
    "version": 3
   },
   "file_extension": ".py",
   "mimetype": "text/x-python",
   "name": "python",
   "nbconvert_exporter": "python",
   "pygments_lexer": "ipython3",
   "version": "3.8.3"
  }
 },
 "nbformat": 4,
 "nbformat_minor": 4
}
